{
 "cells": [
  {
   "cell_type": "markdown",
   "id": "69c95870",
   "metadata": {},
   "source": [
    "# HEART DISEASE PREDICTION USING SEVERAL CLASSIFICATION MODELS"
   ]
  },
  {
   "cell_type": "markdown",
   "id": "58f7a40d",
   "metadata": {},
   "source": [
    "# GROUP 4 | CS 513-B | FINAL PROJECT | EDA"
   ]
  },
  {
   "cell_type": "markdown",
   "id": "a362c29c",
   "metadata": {},
   "source": [
    "# Install Libraries"
   ]
  },
  {
   "cell_type": "code",
   "execution_count": 1,
   "id": "bc8cd9c8-b6d3-409c-91da-6c17c57f80c4",
   "metadata": {
    "colab": {
     "base_uri": "https://localhost:8080/"
    },
    "executionInfo": {
     "elapsed": 3641,
     "status": "ok",
     "timestamp": 1670041530771,
     "user": {
      "displayName": "Roushan Kumar",
      "userId": "08879619398531324675"
     },
     "user_tz": 300
    },
    "id": "bc8cd9c8-b6d3-409c-91da-6c17c57f80c4",
    "outputId": "8d43dbcb-9e36-41e5-ac85-3cbe3a3f2454"
   },
   "outputs": [
    {
     "name": "stdout",
     "output_type": "stream",
     "text": [
      "Requirement already satisfied: pandas_profiling in /home/rtannunisha/anaconda3/lib/python3.9/site-packages (3.5.0)\n",
      "Requirement already satisfied: requests<2.29,>=2.24.0 in /home/rtannunisha/anaconda3/lib/python3.9/site-packages (from pandas_profiling) (2.27.1)\n",
      "Requirement already satisfied: numpy<1.24,>=1.16.0 in /home/rtannunisha/anaconda3/lib/python3.9/site-packages (from pandas_profiling) (1.21.5)\n",
      "Requirement already satisfied: matplotlib<3.7,>=3.2 in /home/rtannunisha/anaconda3/lib/python3.9/site-packages (from pandas_profiling) (3.5.1)\n",
      "Requirement already satisfied: multimethod<1.10,>=1.4 in /home/rtannunisha/anaconda3/lib/python3.9/site-packages (from pandas_profiling) (1.9)\n",
      "Requirement already satisfied: statsmodels<0.14,>=0.13.2 in /home/rtannunisha/anaconda3/lib/python3.9/site-packages (from pandas_profiling) (0.13.2)\n",
      "Requirement already satisfied: htmlmin==0.1.12 in /home/rtannunisha/anaconda3/lib/python3.9/site-packages (from pandas_profiling) (0.1.12)\n",
      "Requirement already satisfied: pydantic<1.11,>=1.8.1 in /home/rtannunisha/anaconda3/lib/python3.9/site-packages (from pandas_profiling) (1.10.2)\n",
      "Requirement already satisfied: pandas!=1.4.0,<1.6,>1.1 in /home/rtannunisha/anaconda3/lib/python3.9/site-packages (from pandas_profiling) (1.4.2)\n",
      "Requirement already satisfied: visions[type_image_path]==0.7.5 in /home/rtannunisha/anaconda3/lib/python3.9/site-packages (from pandas_profiling) (0.7.5)\n",
      "Requirement already satisfied: scipy<1.10,>=1.4.1 in /home/rtannunisha/anaconda3/lib/python3.9/site-packages (from pandas_profiling) (1.7.3)\n",
      "Requirement already satisfied: seaborn<0.13,>=0.10.1 in /home/rtannunisha/anaconda3/lib/python3.9/site-packages (from pandas_profiling) (0.11.2)\n",
      "Requirement already satisfied: typeguard<2.14,>=2.13.2 in /home/rtannunisha/anaconda3/lib/python3.9/site-packages (from pandas_profiling) (2.13.3)\n",
      "Requirement already satisfied: jinja2<3.2,>=2.11.1 in /home/rtannunisha/anaconda3/lib/python3.9/site-packages (from pandas_profiling) (3.1.1)\n",
      "Requirement already satisfied: tqdm<4.65,>=4.48.2 in /home/rtannunisha/anaconda3/lib/python3.9/site-packages (from pandas_profiling) (4.64.0)\n",
      "Requirement already satisfied: phik<0.13,>=0.11.1 in /home/rtannunisha/anaconda3/lib/python3.9/site-packages (from pandas_profiling) (0.12.2)\n",
      "Requirement already satisfied: PyYAML<6.1,>=5.0.0 in /home/rtannunisha/anaconda3/lib/python3.9/site-packages (from pandas_profiling) (6.0)\n",
      "Requirement already satisfied: networkx>=2.4 in /home/rtannunisha/anaconda3/lib/python3.9/site-packages (from visions[type_image_path]==0.7.5->pandas_profiling) (2.7.1)\n",
      "Requirement already satisfied: attrs>=19.3.0 in /home/rtannunisha/anaconda3/lib/python3.9/site-packages (from visions[type_image_path]==0.7.5->pandas_profiling) (21.4.0)\n",
      "Requirement already satisfied: tangled-up-in-unicode>=0.0.4 in /home/rtannunisha/anaconda3/lib/python3.9/site-packages (from visions[type_image_path]==0.7.5->pandas_profiling) (0.2.0)\n",
      "Requirement already satisfied: imagehash in /home/rtannunisha/anaconda3/lib/python3.9/site-packages (from visions[type_image_path]==0.7.5->pandas_profiling) (4.3.1)\n",
      "Requirement already satisfied: Pillow in /home/rtannunisha/anaconda3/lib/python3.9/site-packages (from visions[type_image_path]==0.7.5->pandas_profiling) (9.0.1)\n",
      "Requirement already satisfied: MarkupSafe>=2.0 in /home/rtannunisha/anaconda3/lib/python3.9/site-packages (from jinja2<3.2,>=2.11.1->pandas_profiling) (2.1.1)\n",
      "Requirement already satisfied: cycler>=0.10 in /home/rtannunisha/anaconda3/lib/python3.9/site-packages (from matplotlib<3.7,>=3.2->pandas_profiling) (0.11.0)\n",
      "Requirement already satisfied: kiwisolver>=1.0.1 in /home/rtannunisha/anaconda3/lib/python3.9/site-packages (from matplotlib<3.7,>=3.2->pandas_profiling) (1.3.2)\n",
      "Requirement already satisfied: pyparsing>=2.2.1 in /home/rtannunisha/anaconda3/lib/python3.9/site-packages (from matplotlib<3.7,>=3.2->pandas_profiling) (3.0.4)\n",
      "Requirement already satisfied: packaging>=20.0 in /home/rtannunisha/anaconda3/lib/python3.9/site-packages (from matplotlib<3.7,>=3.2->pandas_profiling) (21.3)\n",
      "Requirement already satisfied: fonttools>=4.22.0 in /home/rtannunisha/anaconda3/lib/python3.9/site-packages (from matplotlib<3.7,>=3.2->pandas_profiling) (4.25.0)\n",
      "Requirement already satisfied: python-dateutil>=2.7 in /home/rtannunisha/anaconda3/lib/python3.9/site-packages (from matplotlib<3.7,>=3.2->pandas_profiling) (2.8.2)\n",
      "Requirement already satisfied: pytz>=2020.1 in /home/rtannunisha/anaconda3/lib/python3.9/site-packages (from pandas!=1.4.0,<1.6,>1.1->pandas_profiling) (2021.3)\n",
      "Requirement already satisfied: joblib>=0.14.1 in /home/rtannunisha/anaconda3/lib/python3.9/site-packages (from phik<0.13,>=0.11.1->pandas_profiling) (1.1.0)\n",
      "Requirement already satisfied: typing-extensions>=4.1.0 in /home/rtannunisha/anaconda3/lib/python3.9/site-packages (from pydantic<1.11,>=1.8.1->pandas_profiling) (4.1.1)\n",
      "Requirement already satisfied: six>=1.5 in /home/rtannunisha/anaconda3/lib/python3.9/site-packages (from python-dateutil>=2.7->matplotlib<3.7,>=3.2->pandas_profiling) (1.16.0)\n",
      "Requirement already satisfied: certifi>=2017.4.17 in /home/rtannunisha/anaconda3/lib/python3.9/site-packages (from requests<2.29,>=2.24.0->pandas_profiling) (2021.10.8)\n",
      "Requirement already satisfied: charset-normalizer~=2.0.0 in /home/rtannunisha/anaconda3/lib/python3.9/site-packages (from requests<2.29,>=2.24.0->pandas_profiling) (2.0.4)\n",
      "Requirement already satisfied: idna<4,>=2.5 in /home/rtannunisha/anaconda3/lib/python3.9/site-packages (from requests<2.29,>=2.24.0->pandas_profiling) (3.3)\n",
      "Requirement already satisfied: urllib3<1.27,>=1.21.1 in /home/rtannunisha/anaconda3/lib/python3.9/site-packages (from requests<2.29,>=2.24.0->pandas_profiling) (1.26.9)\n",
      "Requirement already satisfied: patsy>=0.5.2 in /home/rtannunisha/anaconda3/lib/python3.9/site-packages (from statsmodels<0.14,>=0.13.2->pandas_profiling) (0.5.2)\n",
      "Requirement already satisfied: PyWavelets in /home/rtannunisha/anaconda3/lib/python3.9/site-packages (from imagehash->visions[type_image_path]==0.7.5->pandas_profiling) (1.3.0)\n"
     ]
    }
   ],
   "source": [
    "!pip install pandas_profiling"
   ]
  },
  {
   "cell_type": "markdown",
   "id": "283225b8",
   "metadata": {},
   "source": [
    "# Load Libraries"
   ]
  },
  {
   "cell_type": "code",
   "execution_count": 2,
   "id": "e5539e4e-c798-4a22-bb1d-1b17af7d7004",
   "metadata": {
    "executionInfo": {
     "elapsed": 634,
     "status": "ok",
     "timestamp": 1670041432317,
     "user": {
      "displayName": "Roushan Kumar",
      "userId": "08879619398531324675"
     },
     "user_tz": 300
    },
    "id": "e5539e4e-c798-4a22-bb1d-1b17af7d7004"
   },
   "outputs": [],
   "source": [
    "import pandas as pd\n",
    "from pandas_profiling import ProfileReport\n"
   ]
  },
  {
   "cell_type": "markdown",
   "id": "98de5d40",
   "metadata": {},
   "source": [
    "# Load Data"
   ]
  },
  {
   "cell_type": "code",
   "execution_count": 6,
   "id": "dec33a25-d83f-41b5-9bc7-71c83feb6ac2",
   "metadata": {
    "colab": {
     "base_uri": "https://localhost:8080/",
     "height": 206
    },
    "executionInfo": {
     "elapsed": 858,
     "status": "ok",
     "timestamp": 1670041520027,
     "user": {
      "displayName": "Roushan Kumar",
      "userId": "08879619398531324675"
     },
     "user_tz": 300
    },
    "id": "dec33a25-d83f-41b5-9bc7-71c83feb6ac2",
    "outputId": "bdf3f858-0a26-4a7c-f0de-d1ab2f432e81"
   },
   "outputs": [
    {
     "data": {
      "text/html": [
       "<div>\n",
       "<style scoped>\n",
       "    .dataframe tbody tr th:only-of-type {\n",
       "        vertical-align: middle;\n",
       "    }\n",
       "\n",
       "    .dataframe tbody tr th {\n",
       "        vertical-align: top;\n",
       "    }\n",
       "\n",
       "    .dataframe thead th {\n",
       "        text-align: right;\n",
       "    }\n",
       "</style>\n",
       "<table border=\"1\" class=\"dataframe\">\n",
       "  <thead>\n",
       "    <tr style=\"text-align: right;\">\n",
       "      <th></th>\n",
       "      <th>male</th>\n",
       "      <th>age</th>\n",
       "      <th>education</th>\n",
       "      <th>currentSmoker</th>\n",
       "      <th>cigsPerDay</th>\n",
       "      <th>BPMeds</th>\n",
       "      <th>prevalentStroke</th>\n",
       "      <th>prevalentHyp</th>\n",
       "      <th>diabetes</th>\n",
       "      <th>totChol</th>\n",
       "      <th>sysBP</th>\n",
       "      <th>diaBP</th>\n",
       "      <th>BMI</th>\n",
       "      <th>heartRate</th>\n",
       "      <th>glucose</th>\n",
       "      <th>TenYearCHD</th>\n",
       "    </tr>\n",
       "  </thead>\n",
       "  <tbody>\n",
       "    <tr>\n",
       "      <th>0</th>\n",
       "      <td>1</td>\n",
       "      <td>39</td>\n",
       "      <td>4.0</td>\n",
       "      <td>0</td>\n",
       "      <td>0.0</td>\n",
       "      <td>0.0</td>\n",
       "      <td>0</td>\n",
       "      <td>0</td>\n",
       "      <td>0</td>\n",
       "      <td>195.0</td>\n",
       "      <td>106.0</td>\n",
       "      <td>70.0</td>\n",
       "      <td>26.97</td>\n",
       "      <td>80.0</td>\n",
       "      <td>77.0</td>\n",
       "      <td>0</td>\n",
       "    </tr>\n",
       "    <tr>\n",
       "      <th>1</th>\n",
       "      <td>0</td>\n",
       "      <td>46</td>\n",
       "      <td>2.0</td>\n",
       "      <td>0</td>\n",
       "      <td>0.0</td>\n",
       "      <td>0.0</td>\n",
       "      <td>0</td>\n",
       "      <td>0</td>\n",
       "      <td>0</td>\n",
       "      <td>250.0</td>\n",
       "      <td>121.0</td>\n",
       "      <td>81.0</td>\n",
       "      <td>28.73</td>\n",
       "      <td>95.0</td>\n",
       "      <td>76.0</td>\n",
       "      <td>0</td>\n",
       "    </tr>\n",
       "    <tr>\n",
       "      <th>2</th>\n",
       "      <td>1</td>\n",
       "      <td>48</td>\n",
       "      <td>1.0</td>\n",
       "      <td>1</td>\n",
       "      <td>20.0</td>\n",
       "      <td>0.0</td>\n",
       "      <td>0</td>\n",
       "      <td>0</td>\n",
       "      <td>0</td>\n",
       "      <td>245.0</td>\n",
       "      <td>127.5</td>\n",
       "      <td>80.0</td>\n",
       "      <td>25.34</td>\n",
       "      <td>75.0</td>\n",
       "      <td>70.0</td>\n",
       "      <td>0</td>\n",
       "    </tr>\n",
       "    <tr>\n",
       "      <th>3</th>\n",
       "      <td>0</td>\n",
       "      <td>61</td>\n",
       "      <td>3.0</td>\n",
       "      <td>1</td>\n",
       "      <td>30.0</td>\n",
       "      <td>0.0</td>\n",
       "      <td>0</td>\n",
       "      <td>1</td>\n",
       "      <td>0</td>\n",
       "      <td>225.0</td>\n",
       "      <td>150.0</td>\n",
       "      <td>95.0</td>\n",
       "      <td>28.58</td>\n",
       "      <td>65.0</td>\n",
       "      <td>103.0</td>\n",
       "      <td>1</td>\n",
       "    </tr>\n",
       "    <tr>\n",
       "      <th>4</th>\n",
       "      <td>0</td>\n",
       "      <td>46</td>\n",
       "      <td>3.0</td>\n",
       "      <td>1</td>\n",
       "      <td>23.0</td>\n",
       "      <td>0.0</td>\n",
       "      <td>0</td>\n",
       "      <td>0</td>\n",
       "      <td>0</td>\n",
       "      <td>285.0</td>\n",
       "      <td>130.0</td>\n",
       "      <td>84.0</td>\n",
       "      <td>23.10</td>\n",
       "      <td>85.0</td>\n",
       "      <td>85.0</td>\n",
       "      <td>0</td>\n",
       "    </tr>\n",
       "  </tbody>\n",
       "</table>\n",
       "</div>"
      ],
      "text/plain": [
       "   male  age  education  currentSmoker  cigsPerDay  BPMeds  prevalentStroke  \\\n",
       "0     1   39        4.0              0         0.0     0.0                0   \n",
       "1     0   46        2.0              0         0.0     0.0                0   \n",
       "2     1   48        1.0              1        20.0     0.0                0   \n",
       "3     0   61        3.0              1        30.0     0.0                0   \n",
       "4     0   46        3.0              1        23.0     0.0                0   \n",
       "\n",
       "   prevalentHyp  diabetes  totChol  sysBP  diaBP    BMI  heartRate  glucose  \\\n",
       "0             0         0    195.0  106.0   70.0  26.97       80.0     77.0   \n",
       "1             0         0    250.0  121.0   81.0  28.73       95.0     76.0   \n",
       "2             0         0    245.0  127.5   80.0  25.34       75.0     70.0   \n",
       "3             1         0    225.0  150.0   95.0  28.58       65.0    103.0   \n",
       "4             0         0    285.0  130.0   84.0  23.10       85.0     85.0   \n",
       "\n",
       "   TenYearCHD  \n",
       "0           0  \n",
       "1           0  \n",
       "2           0  \n",
       "3           1  \n",
       "4           0  "
      ]
     },
     "execution_count": 6,
     "metadata": {},
     "output_type": "execute_result"
    }
   ],
   "source": [
    "data = pd.read_csv('framingham.csv')\n",
    "data.head()"
   ]
  },
  {
   "cell_type": "markdown",
   "id": "fe53ac61",
   "metadata": {},
   "source": [
    "# Profile Report"
   ]
  },
  {
   "cell_type": "code",
   "execution_count": 4,
   "id": "ee002d1c-81ba-4b40-ab65-b3917bf71c66",
   "metadata": {
    "colab": {
     "base_uri": "https://localhost:8080/",
     "height": 339
    },
    "executionInfo": {
     "elapsed": 1493,
     "status": "error",
     "timestamp": 1670041554749,
     "user": {
      "displayName": "Roushan Kumar",
      "userId": "08879619398531324675"
     },
     "user_tz": 300
    },
    "id": "ee002d1c-81ba-4b40-ab65-b3917bf71c66",
    "outputId": "04964ead-8a5a-44ee-8ab3-ca8ed45a4234"
   },
   "outputs": [],
   "source": [
    "prof = ProfileReport(data)"
   ]
  },
  {
   "cell_type": "markdown",
   "id": "43045c03-bfc0-4c36-a2f3-e29a5016a4f5",
   "metadata": {
    "id": "43045c03-bfc0-4c36-a2f3-e29a5016a4f5"
   },
   "source": [
    "About the dataset: Columns description:-\n",
    "\n",
    "* Sex: male or female(Nominal)\n",
    "* Age: Age of the patient;(Continuous - Although the recorded ages have been truncated to whole numbers, the concept of age is continuous) Behavioral\n",
    "* Current Smoker: whether or not the patient is a current smoker (Nominal)\n",
    "* Cigs Per Day: the number of cigarettes that the person smoked on average in one day.(can be considered continuous as one can have any number of cigarettes, even half a cigarette.) Medical( history)\n",
    "* BP Meds: whether or not the patient was on blood pressure medication (Nominal)\n",
    "* Prevalent Stroke: whether or not the patient had previously had a stroke (Nominal)\n",
    "* Prevalent Hyp: whether or not the patient was hypertensive (Nominal)\n",
    "* Diabetes: whether or not the patient had diabetes (Nominal) Medical(current)\n",
    "* Tot Chol: total cholesterol level (Continuous)\n",
    "* Sys BP: systolic blood pressure (Continuous)\n",
    "* Dia BP: diastolic blood pressure (Continuous)\n",
    "* BMI: Body Mass Index (Continuous)\n",
    "* Heart Rate: heart rate (Continuous - In medical research, variables such as -heart rate though in fact discrete, yet are considered continuous because of -large number of possible values.)\n",
    "* Glucose: glucose level (Continuous) Predict variable (desired target)\n",
    "* 10 year risk of coronary heart disease CHD (binary: “1”, means “Yes”, “0” means “No”)"
   ]
  },
  {
   "cell_type": "code",
   "execution_count": 5,
   "id": "41886294-5c3c-42d2-8c24-95ce6dce3521",
   "metadata": {
    "colab": {
     "base_uri": "https://localhost:8080/",
     "height": 170
    },
    "executionInfo": {
     "elapsed": 312,
     "status": "error",
     "timestamp": 1670041566076,
     "user": {
      "displayName": "Roushan Kumar",
      "userId": "08879619398531324675"
     },
     "user_tz": 300
    },
    "id": "41886294-5c3c-42d2-8c24-95ce6dce3521",
    "outputId": "24496e18-867a-4ee8-d3d4-4d2446753aaa"
   },
   "outputs": [
    {
     "data": {
      "application/vnd.jupyter.widget-view+json": {
       "model_id": "0c04ff8163a44ba4b6e65edbce7dcb79",
       "version_major": 2,
       "version_minor": 0
      },
      "text/plain": [
       "Summarize dataset:   0%|          | 0/5 [00:00<?, ?it/s]"
      ]
     },
     "metadata": {},
     "output_type": "display_data"
    },
    {
     "data": {
      "application/vnd.jupyter.widget-view+json": {
       "model_id": "1c3738d1e5cb433c9b82bcf5a599f7c0",
       "version_major": 2,
       "version_minor": 0
      },
      "text/plain": [
       "Generate report structure:   0%|          | 0/1 [00:00<?, ?it/s]"
      ]
     },
     "metadata": {},
     "output_type": "display_data"
    },
    {
     "data": {
      "application/vnd.jupyter.widget-view+json": {
       "model_id": "ac9b01c247e04788bcda5151e247e99f",
       "version_major": 2,
       "version_minor": 0
      },
      "text/plain": [
       "Render HTML:   0%|          | 0/1 [00:00<?, ?it/s]"
      ]
     },
     "metadata": {},
     "output_type": "display_data"
    },
    {
     "data": {
      "application/vnd.jupyter.widget-view+json": {
       "model_id": "46ade40f562144718ba497be3db4502d",
       "version_major": 2,
       "version_minor": 0
      },
      "text/plain": [
       "Export report to file:   0%|          | 0/1 [00:00<?, ?it/s]"
      ]
     },
     "metadata": {},
     "output_type": "display_data"
    }
   ],
   "source": [
    "prof.to_file(output_file='Group-4_SectionB_EDA_Profile_Report_Heart_Disease_Prediction.html')"
   ]
  },
  {
   "cell_type": "code",
   "execution_count": null,
   "id": "dc122f31-e2f3-4be9-8f13-86bf6dfb8afe",
   "metadata": {
    "id": "dc122f31-e2f3-4be9-8f13-86bf6dfb8afe"
   },
   "outputs": [],
   "source": []
  }
 ],
 "metadata": {
  "colab": {
   "provenance": []
  },
  "kernelspec": {
   "display_name": "Python 3 (ipykernel)",
   "language": "python",
   "name": "python3"
  },
  "language_info": {
   "codemirror_mode": {
    "name": "ipython",
    "version": 3
   },
   "file_extension": ".py",
   "mimetype": "text/x-python",
   "name": "python",
   "nbconvert_exporter": "python",
   "pygments_lexer": "ipython3",
   "version": "3.9.12"
  }
 },
 "nbformat": 4,
 "nbformat_minor": 5
}
